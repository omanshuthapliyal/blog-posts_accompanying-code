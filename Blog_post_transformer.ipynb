{
  "nbformat": 4,
  "nbformat_minor": 0,
  "metadata": {
    "colab": {
      "provenance": []
    },
    "kernelspec": {
      "name": "python3",
      "display_name": "Python 3"
    },
    "language_info": {
      "name": "python"
    }
  },
  "cells": [
    {
      "cell_type": "code",
      "execution_count": 36,
      "metadata": {
        "id": "nN4Zm-LZ4Gf6"
      },
      "outputs": [],
      "source": [
        "import math\n",
        "import torch\n",
        "import torch.nn as nn\n",
        "import torch.nn.functional as F\n",
        "import random\n",
        "import torch\n",
        "import torch.optim as optim\n",
        "import numpy as np\n",
        "import matplotlib.pyplot as plt"
      ]
    },
    {
      "cell_type": "markdown",
      "source": [
        "# Character Prediction"
      ],
      "metadata": {
        "id": "UZesgKofvSw-"
      }
    },
    {
      "cell_type": "code",
      "source": [
        "# Utility: simple tokenizer\n",
        "class CharTokenizer:\n",
        "    def __init__(self, text):\n",
        "        chars = sorted(list(set(text)))\n",
        "        self.stoi = {ch:i for i,ch in enumerate(chars)}\n",
        "        self.itos = {i:ch for ch,i in self.stoi.items()}\n",
        "        self.vocab_size = len(chars)\n",
        "    def encode(self, s):\n",
        "        return [self.stoi[ch] for ch in s]\n",
        "    def decode(self, ids):\n",
        "        return ''.join(self.itos[i] for i in ids)"
      ],
      "metadata": {
        "id": "oepxTZ1rvOiU"
      },
      "execution_count": 37,
      "outputs": []
    },
    {
      "cell_type": "markdown",
      "source": [
        "##Tiny  Transformer"
      ],
      "metadata": {
        "id": "Yf6tSfCnvERP"
      }
    },
    {
      "cell_type": "code",
      "source": [
        "# Multi-head attention (single layer)\n",
        "class MultiHeadSelfAttention(nn.Module):\n",
        "    def __init__(self, d_model, n_heads):\n",
        "        super().__init__()\n",
        "        assert d_model % n_heads == 0\n",
        "        self.d_model = d_model\n",
        "        self.n_heads = n_heads\n",
        "        self.d_k = d_model // n_heads\n",
        "\n",
        "        # combine QKV as one linear for efficiency; split later\n",
        "        self.w_q = nn.Linear(d_model, d_model, bias=False)\n",
        "        self.w_k = nn.Linear(d_model, d_model, bias=False)\n",
        "        self.w_v = nn.Linear(d_model, d_model, bias=False)\n",
        "        self.w_out = nn.Linear(d_model, d_model, bias=False)\n",
        "\n",
        "    def forward(self, x, mask=None):\n",
        "        # x: (batch, seq_len, d_model)\n",
        "        B, T, _ = x.shape\n",
        "        Q = self.w_q(x).view(B, T, self.n_heads, self.d_k).transpose(1,2)  # (B, heads, T, d_k)\n",
        "        K = self.w_k(x).view(B, T, self.n_heads, self.d_k).transpose(1,2)\n",
        "        V = self.w_v(x).view(B, T, self.n_heads, self.d_k).transpose(1,2)\n",
        "\n",
        "        # scaled dot-product\n",
        "        scores = (Q @ K.transpose(-2,-1)) / math.sqrt(self.d_k)  # (B, heads, T, T)\n",
        "        if mask is not None:\n",
        "            scores = scores.masked_fill(mask == 0, float('-inf'))\n",
        "        att = F.softmax(scores, dim=-1)  # (B, heads, T, T)\n",
        "\n",
        "        out = att @ V  # (B, heads, T, d_k)\n",
        "        out = out.transpose(1,2).contiguous().view(B, T, self.d_model)  # (B, T, d_model)\n",
        "\n",
        "        return self.w_out(out), att  # return attention weights too"
      ],
      "metadata": {
        "id": "LfL78Au6f5yL"
      },
      "execution_count": 38,
      "outputs": []
    },
    {
      "cell_type": "code",
      "source": [
        "class TransformerBlock(nn.Module):\n",
        "    def __init__(self, d_model=64, n_heads=4, d_ff=256, dropout=0.1):\n",
        "        super().__init__()\n",
        "        self.attn = MultiHeadSelfAttention(d_model, n_heads)\n",
        "        self.ln1 = nn.LayerNorm(d_model)\n",
        "        self.ff = nn.Sequential(\n",
        "            nn.Linear(d_model, d_ff),\n",
        "            nn.ReLU(),\n",
        "            nn.Linear(d_ff, d_model),\n",
        "        )\n",
        "        self.ln2 = nn.LayerNorm(d_model)\n",
        "        self.dropout = nn.Dropout(dropout)\n",
        "\n",
        "    def forward(self, x, mask=None):\n",
        "        att_out, att_weights = self.attn(x, mask=mask)\n",
        "        x = self.ln1(x + self.dropout(att_out))\n",
        "        ff_out = self.ff(x)\n",
        "        x = self.ln2(x + self.dropout(ff_out))\n",
        "        return x, att_weights"
      ],
      "metadata": {
        "id": "sFWnlFhTvGzA"
      },
      "execution_count": 39,
      "outputs": []
    },
    {
      "cell_type": "code",
      "source": [
        "class TinyTransformerLM(nn.Module):\n",
        "    def __init__(self, vocab_size, d_model=64, n_heads=4, d_ff=256, max_seq=64):\n",
        "        super().__init__()\n",
        "        self.tok_emb = nn.Embedding(vocab_size, d_model)\n",
        "        self.pos_emb = nn.Embedding(max_seq, d_model)\n",
        "        self.block = TransformerBlock(d_model=d_model, n_heads=n_heads, d_ff=d_ff)\n",
        "        self.ln_f = nn.LayerNorm(d_model)\n",
        "        self.head = nn.Linear(d_model, vocab_size, bias=False)\n",
        "        self.max_seq = max_seq\n",
        "        self.d_model = d_model\n",
        "\n",
        "    def forward(self, idx):\n",
        "        # idx: (B, T)\n",
        "        B, T = idx.shape\n",
        "        assert T <= self.max_seq, \"sequence too long\"\n",
        "        tok = self.tok_emb(idx)  # (B, T, d)\n",
        "        pos = self.pos_emb(torch.arange(T, device=idx.device))[None, :, :].expand(B, T, self.d_model)\n",
        "        x = tok + pos\n",
        "\n",
        "        # causal mask: allow attending only to previous and current tokens\n",
        "        mask = torch.tril(torch.ones(T, T, device=idx.device)).unsqueeze(0).unsqueeze(0)  # (1,1,T,T)\n",
        "\n",
        "        x, att = self.block(x, mask=mask)\n",
        "        x = self.ln_f(x)\n",
        "        logits = self.head(x)  # (B, T, vocab)\n",
        "        return logits, att"
      ],
      "metadata": {
        "id": "-tkGPFi7vIk_"
      },
      "execution_count": 40,
      "outputs": []
    },
    {
      "cell_type": "markdown",
      "source": [
        "## Training"
      ],
      "metadata": {
        "id": "HZywKjmpu4BF"
      }
    },
    {
      "cell_type": "code",
      "source": [
        "def train_tiny_model():\n",
        "    # tiny dataset: repeat a short phrase\n",
        "    text = \"hello world. \" * 200  # small corpus\n",
        "    tokenizer = CharTokenizer(text)\n",
        "    data = tokenizer.encode(text)\n",
        "    vocab = tokenizer.vocab_size\n",
        "\n",
        "    device = torch.device('cuda' if torch.cuda.is_available() else 'cpu')\n",
        "    model = TinyTransformerLM(vocab_size=vocab, d_model=64, n_heads=4, d_ff=256, max_seq=32).to(device)\n",
        "    optim = torch.optim.Adam(model.parameters(), lr=5e-4)\n",
        "    loss_fn = nn.CrossEntropyLoss()\n",
        "\n",
        "    # prepare batches (simple)\n",
        "    seq_len = 16\n",
        "    B = 16\n",
        "    # create dataset as rolling windows\n",
        "    inputs = []\n",
        "    targets = []\n",
        "    for i in range(0, len(data) - seq_len):\n",
        "        chunk = data[i:i+seq_len+1]\n",
        "        inputs.append(chunk[:-1])\n",
        "        targets.append(chunk[1:])\n",
        "    inputs = torch.tensor(inputs, dtype=torch.long)\n",
        "    targets = torch.tensor(targets, dtype=torch.long)\n",
        "\n",
        "    # training loop\n",
        "    epochs = 8\n",
        "    for epoch in range(epochs):\n",
        "        perm = torch.randperm(inputs.size(0))\n",
        "        total_loss = 0.0\n",
        "        for i in range(0, inputs.size(0), B):\n",
        "            idx = perm[i:i+B]\n",
        "            x = inputs[idx].to(device)\n",
        "            y = targets[idx].to(device)\n",
        "            logits, _ = model(x)\n",
        "            # logits: (B, T, vocab) -> reshape for CE\n",
        "            loss = loss_fn(logits.view(-1, vocab), y.view(-1))\n",
        "            optim.zero_grad()\n",
        "            loss.backward()\n",
        "            optim.step()\n",
        "            total_loss += loss.item()\n",
        "        avg_loss = total_loss / (inputs.size(0) / B)\n",
        "        print(f\"Epoch {epoch+1}/{epochs}   avg_loss = {avg_loss:.4f}\")\n",
        "\n",
        "    model.eval()\n",
        "    context = \"he\"\n",
        "    ctx_ids = torch.tensor([tokenizer.encode(context)], dtype=torch.long).to(device)\n",
        "    # extend to seq_len\n",
        "    generated = ctx_ids[0].tolist()\n",
        "    for _ in range(25):\n",
        "        inp = torch.tensor([generated[-seq_len:]], dtype=torch.long).to(device)\n",
        "        logits, _ = model(inp)\n",
        "        next_logits = logits[0, -1, :].detach().cpu()\n",
        "        probs = F.softmax(next_logits, dim=-1)\n",
        "        nxt = torch.multinomial(probs, num_samples=1).item()\n",
        "        generated.append(nxt)\n",
        "    print(\"Generated:\", tokenizer.decode(generated))"
      ],
      "metadata": {
        "id": "UMQqwtrh4mWE"
      },
      "execution_count": 41,
      "outputs": []
    },
    {
      "cell_type": "code",
      "source": [
        "if __name__ == \"__main__\":\n",
        "    train_tiny_model()"
      ],
      "metadata": {
        "colab": {
          "base_uri": "https://localhost:8080/"
        },
        "id": "XbxboASp4nV_",
        "outputId": "2cb6fcde-e97c-4250-a42e-1a8fc316da33"
      },
      "execution_count": 42,
      "outputs": [
        {
          "output_type": "stream",
          "name": "stdout",
          "text": [
            "Epoch 1/8   avg_loss = 0.5392\n",
            "Epoch 2/8   avg_loss = 0.0513\n",
            "Epoch 3/8   avg_loss = 0.0401\n",
            "Epoch 4/8   avg_loss = 0.0372\n",
            "Epoch 5/8   avg_loss = 0.0350\n",
            "Epoch 6/8   avg_loss = 0.0339\n",
            "Epoch 7/8   avg_loss = 0.0330\n",
            "Epoch 8/8   avg_loss = 0.0327\n",
            "Generated: hello world. hello world. h\n"
          ]
        }
      ]
    },
    {
      "cell_type": "markdown",
      "source": [
        "# Dynamic System [Dubin's Car]"
      ],
      "metadata": {
        "id": "OjqL1JKNvXlN"
      }
    },
    {
      "cell_type": "code",
      "source": [
        "# Dynamics\n",
        "def autonomous_step(state, v=1.0, omega=0.1, dt=0.1):\n",
        "    x, y, theta = state\n",
        "    x_next = x + v * np.cos(theta) * dt\n",
        "    y_next = y + v * np.sin(theta) * dt\n",
        "    theta_next = theta + omega * dt\n",
        "    return np.array([x_next, y_next, theta_next])\n",
        "\n",
        "def generate_autonomous_trajectory(T=50, v=1.0, omega=0.1, dt=0.1):\n",
        "    state = np.array([0.0, 0.0, 0.0])\n",
        "    traj = []\n",
        "    for _ in range(T):\n",
        "        traj.append(state)\n",
        "        state = autonomous_step(state, v, omega, dt)\n",
        "    return np.array(traj)"
      ],
      "metadata": {
        "id": "pO8r0QAtvpqQ"
      },
      "execution_count": 43,
      "outputs": []
    },
    {
      "cell_type": "code",
      "source": [
        "from torch.utils.data import DataLoader, TensorDataset\n",
        "\n",
        "N_traj = 250   # trajectories\n",
        "T = 100\n",
        "trajectories = [generate_autonomous_trajectory(T, v=1.0, omega=0.15) for _ in range(N_traj)]\n",
        "data = np.stack(trajectories)  # [N_traj, T, 3]"
      ],
      "metadata": {
        "id": "lpQqjfRM62TS"
      },
      "execution_count": 44,
      "outputs": []
    },
    {
      "cell_type": "markdown",
      "source": [
        "Slighty Bigger Transformer"
      ],
      "metadata": {
        "id": "U2erjx-2ufwy"
      }
    },
    {
      "cell_type": "code",
      "source": [
        "# Transformer Model\n",
        "class TinyTransformer(nn.Module):\n",
        "    def __init__(self, dim=32, depth=2, nhead=4, seq_len=10, in_dim=4, out_dim=3):\n",
        "        super().__init__()\n",
        "        self.input_proj = nn.Linear(in_dim, dim)\n",
        "        encoder_layer = nn.TransformerEncoderLayer(d_model=dim, nhead=nhead, batch_first=True)\n",
        "        self.transformer = nn.TransformerEncoder(encoder_layer, num_layers=depth)\n",
        "        self.output_proj = nn.Linear(dim, out_dim)\n",
        "        self.seq_len = seq_len\n",
        "\n",
        "    def forward(self, x):\n",
        "        # x: [B, seq_len, in_dim]\n",
        "        z = self.input_proj(x)\n",
        "        z = self.transformer(z)  # [B, seq_len, dim]\n",
        "        return self.output_proj(z[:, -1, :])  # predict next state"
      ],
      "metadata": {
        "id": "Ia_bfm8L4FWW"
      },
      "execution_count": 45,
      "outputs": []
    },
    {
      "cell_type": "code",
      "source": [
        "model = TinyTransformer(dim=64, depth=3, nhead=4, seq_len=seq_len, in_dim=3, out_dim=3)\n",
        "opt = optim.Adam(model.parameters(), lr=1e-3)\n",
        "loss_fn = nn.MSELoss()"
      ],
      "metadata": {
        "id": "WGk4hJq669-E"
      },
      "execution_count": 46,
      "outputs": []
    },
    {
      "cell_type": "markdown",
      "source": [
        "Training"
      ],
      "metadata": {
        "id": "jLar75tKukJA"
      }
    },
    {
      "cell_type": "code",
      "source": [
        "seq_len = 10\n",
        "X, Y = [], []\n",
        "for traj in data:\n",
        "    for t in range(len(traj) - seq_len):\n",
        "        X.append(traj[t:t+seq_len])\n",
        "        Y.append(traj[t+seq_len])\n",
        "\n",
        "X = np.stack(X)\n",
        "Y = np.stack(Y)\n",
        "\n",
        "# normalize\n",
        "mean = X.mean(axis=(0,1))\n",
        "std = X.std(axis=(0,1)) + 1e-6\n",
        "X = (X - mean) / std\n",
        "Y = (Y - mean) / std\n",
        "\n",
        "X = torch.tensor(X, dtype=torch.float32)\n",
        "Y = torch.tensor(Y, dtype=torch.float32)\n",
        "\n",
        "dataset = TensorDataset(X, Y)\n",
        "loader = DataLoader(dataset, batch_size=64, shuffle=True)\n",
        "\n",
        "for epoch in range(10):\n",
        "    total_loss = 0\n",
        "    for xb, yb in loader:\n",
        "        opt.zero_grad()\n",
        "        pred = model(xb)\n",
        "        loss = loss_fn(pred, yb)\n",
        "        loss.backward()\n",
        "        opt.step()\n",
        "        total_loss += loss.item() * len(xb)\n",
        "    print(f\"Epoch {epoch}, Loss: {total_loss/len(dataset):.6f}\")"
      ],
      "metadata": {
        "colab": {
          "base_uri": "https://localhost:8080/"
        },
        "id": "ovMJsyhN9D-b",
        "outputId": "0f5b591a-9a0f-4ced-db46-7599f0079544"
      },
      "execution_count": 47,
      "outputs": [
        {
          "output_type": "stream",
          "name": "stdout",
          "text": [
            "Epoch 0, Loss: 0.019964\n",
            "Epoch 1, Loss: 0.002620\n",
            "Epoch 2, Loss: 0.001623\n",
            "Epoch 3, Loss: 0.001253\n",
            "Epoch 4, Loss: 0.000912\n",
            "Epoch 5, Loss: 0.000846\n",
            "Epoch 6, Loss: 0.000700\n",
            "Epoch 7, Loss: 0.000660\n",
            "Epoch 8, Loss: 0.000501\n",
            "Epoch 9, Loss: 0.000592\n"
          ]
        }
      ]
    },
    {
      "cell_type": "markdown",
      "source": [
        "## Rollout w/ un-normalization"
      ],
      "metadata": {
        "id": "gH8_ZdwsuovD"
      }
    },
    {
      "cell_type": "code",
      "source": [
        "def rollout(model, traj, seq_len=10):\n",
        "    model.eval()\n",
        "    preds = []\n",
        "    with torch.no_grad():\n",
        "        # normalize test traj with training stats\n",
        "        norm_traj = (traj - mean) / std\n",
        "        for t in range(len(traj)-seq_len):\n",
        "            window = torch.tensor(norm_traj[t:t+seq_len][None, :, :], dtype=torch.float32)\n",
        "            next_state_norm = model(window).numpy()[0]\n",
        "            next_state = next_state_norm * std + mean  # un-normalize\n",
        "            preds.append(next_state)\n",
        "    return np.array(preds)\n",
        "\n",
        "# Test\n",
        "test_traj = generate_autonomous_trajectory(T=100, v=1.0, omega=0.15)\n",
        "pred_traj = rollout(model, test_traj, seq_len=seq_len)"
      ],
      "metadata": {
        "id": "K_UdsxggX_DF"
      },
      "execution_count": 48,
      "outputs": []
    },
    {
      "cell_type": "code",
      "source": [
        "# --- Color and styles ---\n",
        "line_color = \"#8C1515\"\n",
        "center_color = \"#353831\"\n",
        "\n",
        "def style_ax(ax, title, x_lab, y_lab, margin=None):\n",
        "    # ax.set_facecolor('none')\n",
        "    ax.set_title(title, fontsize=14, color='black', pad=15)\n",
        "    ax.set_xlabel(x_lab, fontsize=12)\n",
        "    ax.set_ylabel(y_lab, fontsize=12)\n",
        "    ax.tick_params(colors='black')\n",
        "    ax.set_aspect('equal')\n",
        "    if margin is not None:\n",
        "        ax.set_xlim(-margin, margin)\n",
        "        ax.set_ylim(-margin, margin)\n",
        "    ax.grid(True, color='gray', linestyle=':', alpha=0.4)"
      ],
      "metadata": {
        "id": "1htkmf67X_zh"
      },
      "execution_count": 49,
      "outputs": []
    },
    {
      "cell_type": "markdown",
      "source": [
        "## Plotting Results"
      ],
      "metadata": {
        "id": "Lgp0MgZNuxpT"
      }
    },
    {
      "cell_type": "code",
      "source": [
        "import matplotlib.pyplot as plt\n",
        "\n",
        "plt.style.use(\"Solarize_Light2\")\n",
        "fig, ax = plt.subplots(figsize=(6,6), facecolor=\"none\")\n",
        "ax.set_aspect(\"equal\")\n",
        "ax.plot(test_traj[:,0], test_traj[:,1], label=\"True trajectory\", linewidth=2.5, color=\"blue\", alpha=0.6)\n",
        "ax.plot(pred_traj[:,0], pred_traj[:,1], \"--\", label=\"Predicted trajectory\", color=line_color, linewidth=2.5)\n",
        "style_ax(ax, \"Dubin's Car Trajectory\", \"$x$-coordinate\", \"$y$-coordinate\", margin=None)\n",
        "ax.legend()\n",
        "plt.show()"
      ],
      "metadata": {
        "colab": {
          "base_uri": "https://localhost:8080/",
          "height": 538
        },
        "id": "khDMOmn6ot_u",
        "outputId": "a31e02a2-4845-44c7-b988-f3a6a23b11aa"
      },
      "execution_count": 50,
      "outputs": [
        {
          "output_type": "display_data",
          "data": {
            "text/plain": [
              "<Figure size 600x600 with 1 Axes>"
            ],
            "image/png": "[encoded data removed]"
          },
          "metadata": {
            "needs_background": "light"
          }
        }
      ]
    },
    {
      "cell_type": "code",
      "source": [],
      "metadata": {
        "id": "iA79js7q9EyL"
      },
      "execution_count": 50,
      "outputs": []
    }
  ]
}